{
 "cells": [
  {
   "cell_type": "code",
   "execution_count": 1,
   "id": "4fd85737",
   "metadata": {},
   "outputs": [],
   "source": [
    "# Import Libraries\n",
    "import pandas as pd\n",
    "import numpy as np\n",
    "import seaborn as sns\n",
    "import matplotlib.pyplot as plt\n",
    "%matplotlib inline\n",
    "from sklearn.linear_model import LinearRegression\n",
    "from sklearn.model_selection import train_test_split\n",
    "from sklearn.metrics import mean_squared_error, r2_score\n"
   ]
  },
  {
   "cell_type": "code",
   "execution_count": 2,
   "id": "003b84c8",
   "metadata": {},
   "outputs": [],
   "source": [
    "df = pd.read_excel('../Dataset/stock portfolio performance data set.xlsx')"
   ]
  },
  {
   "cell_type": "code",
   "execution_count": 3,
   "id": "2e7b838a",
   "metadata": {},
   "outputs": [
    {
     "data": {
      "text/html": [
       "<div>\n",
       "<style scoped>\n",
       "    .dataframe tbody tr th:only-of-type {\n",
       "        vertical-align: middle;\n",
       "    }\n",
       "\n",
       "    .dataframe tbody tr th {\n",
       "        vertical-align: top;\n",
       "    }\n",
       "\n",
       "    .dataframe thead th {\n",
       "        text-align: right;\n",
       "    }\n",
       "</style>\n",
       "<table border=\"1\" class=\"dataframe\">\n",
       "  <thead>\n",
       "    <tr style=\"text-align: right;\">\n",
       "      <th></th>\n",
       "      <th>ID</th>\n",
       "      <th>Large B/P</th>\n",
       "      <th>Large ROE</th>\n",
       "      <th>Large S/P</th>\n",
       "      <th>Large Return Rate in the last quarter</th>\n",
       "      <th>Large Market Value</th>\n",
       "      <th>Small systematic Risk</th>\n",
       "      <th>Annual Return</th>\n",
       "      <th>Excess Return</th>\n",
       "      <th>Systematic Risk</th>\n",
       "      <th>Total Risk</th>\n",
       "      <th>Abs. Win Rate</th>\n",
       "      <th>Rel. Win Rate</th>\n",
       "    </tr>\n",
       "  </thead>\n",
       "  <tbody>\n",
       "    <tr>\n",
       "      <th>0</th>\n",
       "      <td>1</td>\n",
       "      <td>1.0</td>\n",
       "      <td>0.0</td>\n",
       "      <td>0.0</td>\n",
       "      <td>0.0</td>\n",
       "      <td>0.0</td>\n",
       "      <td>0.0</td>\n",
       "      <td>0.139</td>\n",
       "      <td>0.010</td>\n",
       "      <td>1.33</td>\n",
       "      <td>0.149</td>\n",
       "      <td>0.663</td>\n",
       "      <td>0.525</td>\n",
       "    </tr>\n",
       "    <tr>\n",
       "      <th>1</th>\n",
       "      <td>2</td>\n",
       "      <td>0.0</td>\n",
       "      <td>1.0</td>\n",
       "      <td>0.0</td>\n",
       "      <td>0.0</td>\n",
       "      <td>0.0</td>\n",
       "      <td>0.0</td>\n",
       "      <td>0.143</td>\n",
       "      <td>0.010</td>\n",
       "      <td>1.17</td>\n",
       "      <td>0.108</td>\n",
       "      <td>0.663</td>\n",
       "      <td>0.650</td>\n",
       "    </tr>\n",
       "    <tr>\n",
       "      <th>2</th>\n",
       "      <td>3</td>\n",
       "      <td>0.0</td>\n",
       "      <td>0.0</td>\n",
       "      <td>1.0</td>\n",
       "      <td>0.0</td>\n",
       "      <td>0.0</td>\n",
       "      <td>0.0</td>\n",
       "      <td>0.173</td>\n",
       "      <td>0.018</td>\n",
       "      <td>1.30</td>\n",
       "      <td>0.144</td>\n",
       "      <td>0.638</td>\n",
       "      <td>0.513</td>\n",
       "    </tr>\n",
       "    <tr>\n",
       "      <th>3</th>\n",
       "      <td>4</td>\n",
       "      <td>0.0</td>\n",
       "      <td>0.0</td>\n",
       "      <td>0.0</td>\n",
       "      <td>1.0</td>\n",
       "      <td>0.0</td>\n",
       "      <td>0.0</td>\n",
       "      <td>0.096</td>\n",
       "      <td>-0.002</td>\n",
       "      <td>1.39</td>\n",
       "      <td>0.144</td>\n",
       "      <td>0.613</td>\n",
       "      <td>0.475</td>\n",
       "    </tr>\n",
       "    <tr>\n",
       "      <th>4</th>\n",
       "      <td>5</td>\n",
       "      <td>0.0</td>\n",
       "      <td>0.0</td>\n",
       "      <td>0.0</td>\n",
       "      <td>0.0</td>\n",
       "      <td>1.0</td>\n",
       "      <td>0.0</td>\n",
       "      <td>0.096</td>\n",
       "      <td>0.001</td>\n",
       "      <td>1.04</td>\n",
       "      <td>0.087</td>\n",
       "      <td>0.725</td>\n",
       "      <td>0.538</td>\n",
       "    </tr>\n",
       "  </tbody>\n",
       "</table>\n",
       "</div>"
      ],
      "text/plain": [
       "   ID   Large B/P    Large ROE    Large S/P   \\\n",
       "0   1          1.0          0.0          0.0   \n",
       "1   2          0.0          1.0          0.0   \n",
       "2   3          0.0          0.0          1.0   \n",
       "3   4          0.0          0.0          0.0   \n",
       "4   5          0.0          0.0          0.0   \n",
       "\n",
       "    Large Return Rate in the last quarter    Large Market Value   \\\n",
       "0                                      0.0                   0.0   \n",
       "1                                      0.0                   0.0   \n",
       "2                                      0.0                   0.0   \n",
       "3                                      1.0                   0.0   \n",
       "4                                      0.0                   1.0   \n",
       "\n",
       "    Small systematic Risk  Annual Return  Excess Return  Systematic Risk  \\\n",
       "0                     0.0          0.139          0.010             1.33   \n",
       "1                     0.0          0.143          0.010             1.17   \n",
       "2                     0.0          0.173          0.018             1.30   \n",
       "3                     0.0          0.096         -0.002             1.39   \n",
       "4                     0.0          0.096          0.001             1.04   \n",
       "\n",
       "   Total Risk  Abs. Win Rate  Rel. Win Rate  \n",
       "0       0.149          0.663          0.525  \n",
       "1       0.108          0.663          0.650  \n",
       "2       0.144          0.638          0.513  \n",
       "3       0.144          0.613          0.475  \n",
       "4       0.087          0.725          0.538  "
      ]
     },
     "execution_count": 3,
     "metadata": {},
     "output_type": "execute_result"
    }
   ],
   "source": [
    "df.head()"
   ]
  },
  {
   "cell_type": "code",
   "execution_count": 4,
   "id": "837535a5",
   "metadata": {},
   "outputs": [
    {
     "name": "stdout",
     "output_type": "stream",
     "text": [
      "<class 'pandas.core.frame.DataFrame'>\n",
      "RangeIndex: 63 entries, 0 to 62\n",
      "Data columns (total 13 columns):\n",
      " #   Column                                   Non-Null Count  Dtype  \n",
      "---  ------                                   --------------  -----  \n",
      " 0   ID                                       63 non-null     int64  \n",
      " 1    Large B/P                               63 non-null     float64\n",
      " 2    Large ROE                               63 non-null     float64\n",
      " 3    Large S/P                               63 non-null     float64\n",
      " 4    Large Return Rate in the last quarter   63 non-null     float64\n",
      " 5    Large Market Value                      63 non-null     float64\n",
      " 6    Small systematic Risk                   63 non-null     float64\n",
      " 7   Annual Return                            63 non-null     float64\n",
      " 8   Excess Return                            63 non-null     float64\n",
      " 9   Systematic Risk                          63 non-null     float64\n",
      " 10  Total Risk                               63 non-null     float64\n",
      " 11  Abs. Win Rate                            63 non-null     float64\n",
      " 12  Rel. Win Rate                            63 non-null     float64\n",
      "dtypes: float64(12), int64(1)\n",
      "memory usage: 6.5 KB\n"
     ]
    }
   ],
   "source": [
    "df.info()\n"
   ]
  },
  {
   "cell_type": "code",
   "execution_count": 5,
   "id": "aa2d5e8b",
   "metadata": {},
   "outputs": [
    {
     "data": {
      "text/html": [
       "<div>\n",
       "<style scoped>\n",
       "    .dataframe tbody tr th:only-of-type {\n",
       "        vertical-align: middle;\n",
       "    }\n",
       "\n",
       "    .dataframe tbody tr th {\n",
       "        vertical-align: top;\n",
       "    }\n",
       "\n",
       "    .dataframe thead th {\n",
       "        text-align: right;\n",
       "    }\n",
       "</style>\n",
       "<table border=\"1\" class=\"dataframe\">\n",
       "  <thead>\n",
       "    <tr style=\"text-align: right;\">\n",
       "      <th></th>\n",
       "      <th>ID</th>\n",
       "      <th>Large B/P</th>\n",
       "      <th>Large ROE</th>\n",
       "      <th>Large S/P</th>\n",
       "      <th>Large Return Rate in the last quarter</th>\n",
       "      <th>Large Market Value</th>\n",
       "      <th>Small systematic Risk</th>\n",
       "      <th>Annual Return</th>\n",
       "      <th>Excess Return</th>\n",
       "      <th>Systematic Risk</th>\n",
       "      <th>Total Risk</th>\n",
       "      <th>Abs. Win Rate</th>\n",
       "      <th>Rel. Win Rate</th>\n",
       "    </tr>\n",
       "  </thead>\n",
       "  <tbody>\n",
       "    <tr>\n",
       "      <th>count</th>\n",
       "      <td>63.000000</td>\n",
       "      <td>63.000000</td>\n",
       "      <td>63.000000</td>\n",
       "      <td>63.000000</td>\n",
       "      <td>63.000000</td>\n",
       "      <td>63.000000</td>\n",
       "      <td>63.000000</td>\n",
       "      <td>63.000000</td>\n",
       "      <td>63.000000</td>\n",
       "      <td>63.000000</td>\n",
       "      <td>63.000000</td>\n",
       "      <td>63.000000</td>\n",
       "      <td>63.000000</td>\n",
       "    </tr>\n",
       "    <tr>\n",
       "      <th>mean</th>\n",
       "      <td>32.000000</td>\n",
       "      <td>0.166619</td>\n",
       "      <td>0.166619</td>\n",
       "      <td>0.166619</td>\n",
       "      <td>0.166619</td>\n",
       "      <td>0.166619</td>\n",
       "      <td>0.166619</td>\n",
       "      <td>0.149238</td>\n",
       "      <td>0.014746</td>\n",
       "      <td>1.035873</td>\n",
       "      <td>0.106317</td>\n",
       "      <td>0.677397</td>\n",
       "      <td>0.573460</td>\n",
       "    </tr>\n",
       "    <tr>\n",
       "      <th>std</th>\n",
       "      <td>18.330303</td>\n",
       "      <td>0.199304</td>\n",
       "      <td>0.199304</td>\n",
       "      <td>0.199304</td>\n",
       "      <td>0.199304</td>\n",
       "      <td>0.199304</td>\n",
       "      <td>0.199304</td>\n",
       "      <td>0.027872</td>\n",
       "      <td>0.007101</td>\n",
       "      <td>0.112173</td>\n",
       "      <td>0.014277</td>\n",
       "      <td>0.035196</td>\n",
       "      <td>0.056496</td>\n",
       "    </tr>\n",
       "    <tr>\n",
       "      <th>min</th>\n",
       "      <td>1.000000</td>\n",
       "      <td>0.000000</td>\n",
       "      <td>0.000000</td>\n",
       "      <td>0.000000</td>\n",
       "      <td>0.000000</td>\n",
       "      <td>0.000000</td>\n",
       "      <td>0.000000</td>\n",
       "      <td>0.070000</td>\n",
       "      <td>-0.005000</td>\n",
       "      <td>0.820000</td>\n",
       "      <td>0.086000</td>\n",
       "      <td>0.563000</td>\n",
       "      <td>0.450000</td>\n",
       "    </tr>\n",
       "    <tr>\n",
       "      <th>25%</th>\n",
       "      <td>16.500000</td>\n",
       "      <td>0.000000</td>\n",
       "      <td>0.000000</td>\n",
       "      <td>0.000000</td>\n",
       "      <td>0.000000</td>\n",
       "      <td>0.000000</td>\n",
       "      <td>0.000000</td>\n",
       "      <td>0.138000</td>\n",
       "      <td>0.012000</td>\n",
       "      <td>0.970000</td>\n",
       "      <td>0.096500</td>\n",
       "      <td>0.663000</td>\n",
       "      <td>0.525000</td>\n",
       "    </tr>\n",
       "    <tr>\n",
       "      <th>50%</th>\n",
       "      <td>32.000000</td>\n",
       "      <td>0.167000</td>\n",
       "      <td>0.167000</td>\n",
       "      <td>0.167000</td>\n",
       "      <td>0.167000</td>\n",
       "      <td>0.167000</td>\n",
       "      <td>0.167000</td>\n",
       "      <td>0.153000</td>\n",
       "      <td>0.015000</td>\n",
       "      <td>1.010000</td>\n",
       "      <td>0.104000</td>\n",
       "      <td>0.675000</td>\n",
       "      <td>0.575000</td>\n",
       "    </tr>\n",
       "    <tr>\n",
       "      <th>75%</th>\n",
       "      <td>47.500000</td>\n",
       "      <td>0.291500</td>\n",
       "      <td>0.291500</td>\n",
       "      <td>0.291500</td>\n",
       "      <td>0.291500</td>\n",
       "      <td>0.291500</td>\n",
       "      <td>0.291500</td>\n",
       "      <td>0.170000</td>\n",
       "      <td>0.019500</td>\n",
       "      <td>1.080000</td>\n",
       "      <td>0.113000</td>\n",
       "      <td>0.700000</td>\n",
       "      <td>0.625000</td>\n",
       "    </tr>\n",
       "    <tr>\n",
       "      <th>max</th>\n",
       "      <td>63.000000</td>\n",
       "      <td>1.000000</td>\n",
       "      <td>1.000000</td>\n",
       "      <td>1.000000</td>\n",
       "      <td>1.000000</td>\n",
       "      <td>1.000000</td>\n",
       "      <td>1.000000</td>\n",
       "      <td>0.195000</td>\n",
       "      <td>0.026000</td>\n",
       "      <td>1.390000</td>\n",
       "      <td>0.149000</td>\n",
       "      <td>0.750000</td>\n",
       "      <td>0.663000</td>\n",
       "    </tr>\n",
       "  </tbody>\n",
       "</table>\n",
       "</div>"
      ],
      "text/plain": [
       "              ID   Large B/P    Large ROE    Large S/P   \\\n",
       "count  63.000000    63.000000    63.000000    63.000000   \n",
       "mean   32.000000     0.166619     0.166619     0.166619   \n",
       "std    18.330303     0.199304     0.199304     0.199304   \n",
       "min     1.000000     0.000000     0.000000     0.000000   \n",
       "25%    16.500000     0.000000     0.000000     0.000000   \n",
       "50%    32.000000     0.167000     0.167000     0.167000   \n",
       "75%    47.500000     0.291500     0.291500     0.291500   \n",
       "max    63.000000     1.000000     1.000000     1.000000   \n",
       "\n",
       "        Large Return Rate in the last quarter    Large Market Value   \\\n",
       "count                                63.000000             63.000000   \n",
       "mean                                  0.166619              0.166619   \n",
       "std                                   0.199304              0.199304   \n",
       "min                                   0.000000              0.000000   \n",
       "25%                                   0.000000              0.000000   \n",
       "50%                                   0.167000              0.167000   \n",
       "75%                                   0.291500              0.291500   \n",
       "max                                   1.000000              1.000000   \n",
       "\n",
       "        Small systematic Risk  Annual Return  Excess Return  Systematic Risk  \\\n",
       "count               63.000000      63.000000      63.000000        63.000000   \n",
       "mean                 0.166619       0.149238       0.014746         1.035873   \n",
       "std                  0.199304       0.027872       0.007101         0.112173   \n",
       "min                  0.000000       0.070000      -0.005000         0.820000   \n",
       "25%                  0.000000       0.138000       0.012000         0.970000   \n",
       "50%                  0.167000       0.153000       0.015000         1.010000   \n",
       "75%                  0.291500       0.170000       0.019500         1.080000   \n",
       "max                  1.000000       0.195000       0.026000         1.390000   \n",
       "\n",
       "       Total Risk  Abs. Win Rate  Rel. Win Rate  \n",
       "count   63.000000      63.000000      63.000000  \n",
       "mean     0.106317       0.677397       0.573460  \n",
       "std      0.014277       0.035196       0.056496  \n",
       "min      0.086000       0.563000       0.450000  \n",
       "25%      0.096500       0.663000       0.525000  \n",
       "50%      0.104000       0.675000       0.575000  \n",
       "75%      0.113000       0.700000       0.625000  \n",
       "max      0.149000       0.750000       0.663000  "
      ]
     },
     "execution_count": 5,
     "metadata": {},
     "output_type": "execute_result"
    }
   ],
   "source": [
    "df.describe()"
   ]
  },
  {
   "cell_type": "code",
   "execution_count": 6,
   "id": "3d91d9b9",
   "metadata": {},
   "outputs": [
    {
     "data": {
      "text/plain": [
       "<seaborn.axisgrid.JointGrid at 0x1ca880e3130>"
      ]
     },
     "execution_count": 6,
     "metadata": {},
     "output_type": "execute_result"
    },
    {
     "data": {
      "image/png": "[encoded data removed]",
      "text/plain": [
       "<Figure size 432x432 with 3 Axes>"
      ]
     },
     "metadata": {
      "needs_background": "light"
     },
     "output_type": "display_data"
    }
   ],
   "source": [
    "sns.jointplot(x=df[' Large Return Rate in the last quarter '], y=df['Annual Return'], data=df, kind='reg')"
   ]
  },
  {
   "cell_type": "code",
   "execution_count": null,
   "id": "32c239ae",
   "metadata": {},
   "outputs": [],
   "source": [
    "\n"
   ]
  },
  {
   "cell_type": "code",
   "execution_count": 7,
   "id": "1229a839",
   "metadata": {},
   "outputs": [
    {
     "data": {
      "text/plain": [
       "<seaborn.axisgrid.JointGrid at 0x1ca8e4c8940>"
      ]
     },
     "execution_count": 7,
     "metadata": {},
     "output_type": "execute_result"
    },
    {
     "data": {
      "image/png": "[encoded data removed]",
      "text/plain": [
       "<Figure size 432x432 with 3 Axes>"
      ]
     },
     "metadata": {
      "needs_background": "light"
     },
     "output_type": "display_data"
    }
   ],
   "source": [
    "sns.jointplot(x=df[' Large B/P '], y=df['Annual Return'], data=df, kind='reg')"
   ]
  },
  {
   "cell_type": "code",
   "execution_count": 8,
   "id": "d668faf4",
   "metadata": {},
   "outputs": [
    {
     "data": {
      "text/plain": [
       "<seaborn.axisgrid.JointGrid at 0x1ca8e6e92b0>"
      ]
     },
     "execution_count": 8,
     "metadata": {},
     "output_type": "execute_result"
    },
    {
     "data": {
      "image/png": "[encoded data removed]",
      "text/plain": [
       "<Figure size 432x432 with 3 Axes>"
      ]
     },
     "metadata": {
      "needs_background": "light"
     },
     "output_type": "display_data"
    }
   ],
   "source": [
    "sns.jointplot(x=df['Excess Return'], y=df['Annual Return'], data=df, kind='reg')"
   ]
  },
  {
   "cell_type": "code",
   "execution_count": 9,
   "id": "38cfa057",
   "metadata": {},
   "outputs": [],
   "source": [
    "X = df['Excess Return']\n",
    "Y = df['Annual Return']\n"
   ]
  },
  {
   "cell_type": "code",
   "execution_count": 10,
   "id": "d72ba581",
   "metadata": {},
   "outputs": [
    {
     "name": "stdout",
     "output_type": "stream",
     "text": [
      "Train - Predictors shape (50, 1)\n",
      "Test - Predictors shape (13, 1)\n",
      "Train - Target shape (50, 1)\n",
      "Test - Target shape (13, 1)\n"
     ]
    }
   ],
   "source": [
    "x_train, x_test, y_train, y_test = train_test_split(X, Y, test_size=0.2, random_state=42)\n",
    "\n",
    "x_train = x_train.to_numpy()\n",
    "x_test = x_test.to_numpy()\n",
    "y_train = y_train.to_numpy()\n",
    "y_test = y_test.to_numpy()\n",
    "\n",
    "x_train = np.reshape(x_train, (-1,1))\n",
    "x_test = np.reshape(x_test, (-1,1))\n",
    "y_train = np.reshape(y_train, (-1,1))\n",
    "y_test = np.reshape(y_test, (-1,1))\n",
    "\n",
    "print('Train - Predictors shape', x_train.shape)\n",
    "print('Test - Predictors shape', x_test.shape)\n",
    "print('Train - Target shape', y_train.shape)\n",
    "print('Test - Target shape', y_test.shape)"
   ]
  },
  {
   "cell_type": "code",
   "execution_count": 11,
   "id": "d9c785a4",
   "metadata": {},
   "outputs": [],
   "source": [
    "# calculate co-efficient\n",
    "def theta_calc(x_train, y_train): \n",
    "    #Initializing all variables\n",
    "    n_data = x_train.shape[0]\n",
    "    \n",
    "    bias = np.ones((n_data,1))\n",
    "    x_train_b = np.append(bias, x_train, axis=1)\n",
    "\n",
    "    theta_1 = np.linalg.inv(np.dot(x_train_b.T,x_train_b))\n",
    "    theta_2 = np.dot(theta_1, x_train_b.T)\n",
    "    theta = np.dot(theta_2,y_train)\n",
    "\n",
    "    return theta"
   ]
  },
  {
   "cell_type": "code",
   "execution_count": 12,
   "id": "cdec9604",
   "metadata": {},
   "outputs": [],
   "source": [
    "def predict_func(slope,intercept,x_test):\n",
    "    \n",
    "    pred = []\n",
    "    n_data = x_test.shape[0]\n",
    "    for i in range(n_data):\n",
    "        pred.append((slope * x_test[i] + intercept))\n",
    "             \n",
    "    return pred"
   ]
  },
  {
   "cell_type": "code",
   "execution_count": 13,
   "id": "e7711e11",
   "metadata": {},
   "outputs": [],
   "source": [
    "def mse_calc(prediction, y_test):\n",
    "    \n",
    "    total_data = len(prediction)\n",
    "    error = 0\n",
    "    error = (np.sum((prediction - y_test)**2))/total_data\n",
    "    return error"
   ]
  },
  {
   "cell_type": "code",
   "execution_count": 14,
   "id": "b6da6779",
   "metadata": {},
   "outputs": [],
   "source": [
    "def rsq(prediction, y_test):\n",
    "\n",
    "    total_data = len(prediction)\n",
    "    \n",
    "    #Average of total prediction \n",
    "    y_avg = np.sum(y_test)/total_data\n",
    "    \n",
    "    #total sum of square error\n",
    "    tot_err = np.sum((y_test-y_avg)**2)\n",
    "    \n",
    "    #total sum of squared error of residuals\n",
    "    res_err = np.sum((y_test-prediction)**2)\n",
    "    r2 = 1 - (res_err / tot_err)\n",
    "    return r2"
   ]
  },
  {
   "cell_type": "code",
   "execution_count": 15,
   "id": "fd4bf8c7",
   "metadata": {},
   "outputs": [
    {
     "name": "stdout",
     "output_type": "stream",
     "text": [
      "Intercept of the model [0.09375779]\n",
      "Slope of the model [3.78354158]\n"
     ]
    }
   ],
   "source": [
    "#Finding optimal theta value using normal equations\n",
    "theta = theta_calc(x_train, y_train)\n",
    "intercept = theta[0]\n",
    "slope = theta[1]\n",
    "print('Intercept of the model', intercept)\n",
    "print('Slope of the model', slope)"
   ]
  },
  {
   "cell_type": "code",
   "execution_count": 16,
   "id": "2b97c0c7",
   "metadata": {},
   "outputs": [],
   "source": [
    "#Prediction calculation\n",
    "prediction = predict_func(slope, intercept, x_test)"
   ]
  },
  {
   "cell_type": "code",
   "execution_count": 17,
   "id": "c8d414d2",
   "metadata": {},
   "outputs": [
    {
     "name": "stdout",
     "output_type": "stream",
     "text": [
      "R squared value 0.973080429575225\n"
     ]
    }
   ],
   "source": [
    "#R-square calculation\n",
    "r2_val = rsq(prediction, y_test)\n",
    "print('R squared value', r2_val)"
   ]
  },
  {
   "cell_type": "code",
   "execution_count": 18,
   "id": "787c9e21",
   "metadata": {},
   "outputs": [
    {
     "name": "stdout",
     "output_type": "stream",
     "text": [
      "Mean squared error of the model 2.2290041461309546e-05\n"
     ]
    }
   ],
   "source": [
    "#MSE calculation\n",
    "pred_df = pd.DataFrame(prediction)\n",
    "pred_df.columns=['Annual Return']\n",
    "error =  mse_calc(prediction, y_test)\n",
    "print('Mean squared error of the model', error)"
   ]
  },
  {
   "cell_type": "code",
   "execution_count": 19,
   "id": "f8bfcbc8",
   "metadata": {},
   "outputs": [
    {
     "data": {
      "text/plain": [
       "2.2290041461309546e-05"
      ]
     },
     "execution_count": 19,
     "metadata": {},
     "output_type": "execute_result"
    }
   ],
   "source": [
    "error = (np.sum((prediction - y_test)**2))/len(prediction)\n",
    "error"
   ]
  },
  {
   "cell_type": "code",
   "execution_count": 20,
   "id": "f80258f5",
   "metadata": {},
   "outputs": [
    {
     "data": {
      "text/plain": [
       "Text(0, 0.5, 'Excess Return')"
      ]
     },
     "execution_count": 20,
     "metadata": {},
     "output_type": "execute_result"
    },
    {
     "data": {
      "image/png": "[encoded data removed]",
      "text/plain": [
       "<Figure size 432x288 with 1 Axes>"
      ]
     },
     "metadata": {
      "needs_background": "light"
     },
     "output_type": "display_data"
    }
   ],
   "source": [
    "#Residual plot\n",
    "plt.scatter(prediction, prediction - y_test, c='g', s = 40)\n",
    "plt.hlines(y=0, xmin=0, xmax=100)\n",
    "plt.title('Annual Return plot')\n",
    "plt.ylabel('Excess Return')"
   ]
  },
  {
   "cell_type": "code",
   "execution_count": 21,
   "id": "cf030b33",
   "metadata": {},
   "outputs": [
    {
     "data": {
      "text/html": [
       "<div>\n",
       "<style scoped>\n",
       "    .dataframe tbody tr th:only-of-type {\n",
       "        vertical-align: middle;\n",
       "    }\n",
       "\n",
       "    .dataframe tbody tr th {\n",
       "        vertical-align: top;\n",
       "    }\n",
       "\n",
       "    .dataframe thead th {\n",
       "        text-align: right;\n",
       "    }\n",
       "</style>\n",
       "<table border=\"1\" class=\"dataframe\">\n",
       "  <thead>\n",
       "    <tr style=\"text-align: right;\">\n",
       "      <th></th>\n",
       "      <th>Annual Return</th>\n",
       "    </tr>\n",
       "  </thead>\n",
       "  <tbody>\n",
       "    <tr>\n",
       "      <th>0</th>\n",
       "      <td>0.161862</td>\n",
       "    </tr>\n",
       "    <tr>\n",
       "      <th>1</th>\n",
       "      <td>0.180779</td>\n",
       "    </tr>\n",
       "    <tr>\n",
       "      <th>2</th>\n",
       "      <td>0.131593</td>\n",
       "    </tr>\n",
       "    <tr>\n",
       "      <th>3</th>\n",
       "      <td>0.150511</td>\n",
       "    </tr>\n",
       "    <tr>\n",
       "      <th>4</th>\n",
       "      <td>0.074840</td>\n",
       "    </tr>\n",
       "  </tbody>\n",
       "</table>\n",
       "</div>"
      ],
      "text/plain": [
       "   Annual Return\n",
       "0       0.161862\n",
       "1       0.180779\n",
       "2       0.131593\n",
       "3       0.150511\n",
       "4       0.074840"
      ]
     },
     "execution_count": 21,
     "metadata": {},
     "output_type": "execute_result"
    }
   ],
   "source": [
    "pred_df.head()"
   ]
  },
  {
   "cell_type": "code",
   "execution_count": 22,
   "id": "2db20d76",
   "metadata": {},
   "outputs": [
    {
     "data": {
      "text/plain": [
       "array([[0.181],\n",
       "       [0.139],\n",
       "       [0.15 ],\n",
       "       [0.07 ],\n",
       "       [0.157]])"
      ]
     },
     "execution_count": 22,
     "metadata": {},
     "output_type": "execute_result"
    }
   ],
   "source": [
    "y_test[1:6]"
   ]
  },
  {
   "cell_type": "markdown",
   "id": "250d7761",
   "metadata": {},
   "source": [
    "## Using Scikit Learn"
   ]
  },
  {
   "cell_type": "code",
   "execution_count": 23,
   "id": "80558517",
   "metadata": {},
   "outputs": [
    {
     "data": {
      "text/plain": [
       "LinearRegression()"
      ]
     },
     "execution_count": 23,
     "metadata": {},
     "output_type": "execute_result"
    }
   ],
   "source": [
    "cls = LinearRegression()\n",
    "cls.fit(x_train,y_train)"
   ]
  },
  {
   "cell_type": "code",
   "execution_count": 24,
   "id": "b8e2557e",
   "metadata": {},
   "outputs": [
    {
     "name": "stdout",
     "output_type": "stream",
     "text": [
      "Co-efficient of linear regression [[3.78354158]]\n"
     ]
    }
   ],
   "source": [
    "print('Co-efficient of linear regression',cls.coef_)"
   ]
  },
  {
   "cell_type": "code",
   "execution_count": 25,
   "id": "8e4d6cb9",
   "metadata": {},
   "outputs": [
    {
     "name": "stdout",
     "output_type": "stream",
     "text": [
      "Intercept of linear regression model [0.09375779]\n"
     ]
    }
   ],
   "source": [
    "print('Intercept of linear regression model',cls.intercept_)"
   ]
  },
  {
   "cell_type": "code",
   "execution_count": 26,
   "id": "3d0ddab6",
   "metadata": {},
   "outputs": [
    {
     "name": "stdout",
     "output_type": "stream",
     "text": [
      "Mean Square Error 2.2290041461309546e-05\n"
     ]
    }
   ],
   "source": [
    "print('Mean Square Error', mean_squared_error(y_test, prediction))"
   ]
  },
  {
   "cell_type": "code",
   "execution_count": 27,
   "id": "b12872b8",
   "metadata": {},
   "outputs": [
    {
     "name": "stdout",
     "output_type": "stream",
     "text": [
      "Model R^2 Square value 0.973080429575225\n"
     ]
    }
   ],
   "source": [
    "print('Model R^2 Square value', r2_score(y_test, prediction))"
   ]
  },
  {
   "cell_type": "code",
   "execution_count": 28,
   "id": "1737c322",
   "metadata": {},
   "outputs": [
    {
     "data": {
      "text/plain": [
       "Text(0.5, 1.0, 'Linear Regression')"
      ]
     },
     "execution_count": 28,
     "metadata": {},
     "output_type": "execute_result"
    },
    {
     "data": {
      "image/png": "[encoded data removed]",
      "text/plain": [
       "<Figure size 432x288 with 1 Axes>"
      ]
     },
     "metadata": {
      "needs_background": "light"
     },
     "output_type": "display_data"
    }
   ],
   "source": [
    "plt.scatter(x_test, y_test)\n",
    "plt.plot(x_test, prediction, color='red', linewidth=3)\n",
    "plt.xlabel('Excess Return')\n",
    "plt.ylabel('Annual Return')\n",
    "plt.title('Linear Regression')"
   ]
  },
  {
   "cell_type": "code",
   "execution_count": 29,
   "id": "8ca78b5d",
   "metadata": {},
   "outputs": [
    {
     "data": {
      "text/plain": [
       "Text(0, 0.5, 'Annual Return')"
      ]
     },
     "execution_count": 29,
     "metadata": {},
     "output_type": "execute_result"
    },
    {
     "data": {
      "image/png": "[encoded data removed]",
      "text/plain": [
       "<Figure size 432x288 with 1 Axes>"
      ]
     },
     "metadata": {
      "needs_background": "light"
     },
     "output_type": "display_data"
    }
   ],
   "source": [
    "#Residual plot\n",
    "plt.scatter(cls.predict(x_test), cls.predict(x_test) - y_test, c='g', s = 40)\n",
    "plt.hlines(y=0, xmin=0, xmax=100)\n",
    "plt.title('Excess Return')\n",
    "plt.ylabel('Annual Return')"
   ]
  },
  {
   "cell_type": "code",
   "execution_count": null,
   "id": "2c885510",
   "metadata": {},
   "outputs": [],
   "source": []
  }
 ],
 "metadata": {
  "kernelspec": {
   "display_name": "Python 3 (ipykernel)",
   "language": "python",
   "name": "python3"
  },
  "language_info": {
   "codemirror_mode": {
    "name": "ipython",
    "version": 3
   },
   "file_extension": ".py",
   "mimetype": "text/x-python",
   "name": "python",
   "nbconvert_exporter": "python",
   "pygments_lexer": "ipython3",
   "version": "3.9.7"
  }
 },
 "nbformat": 4,
 "nbformat_minor": 5
}
